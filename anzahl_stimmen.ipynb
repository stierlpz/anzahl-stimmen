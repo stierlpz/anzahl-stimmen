{
  "nbformat": 4,
  "nbformat_minor": 0,
  "metadata": {
    "colab": {
      "name": "anzahl stimmen",
      "private_outputs": true,
      "provenance": [],
      "collapsed_sections": [],
      "authorship_tag": "ABX9TyNg4HOdGr4d3o4FnSRhDtUk",
      "include_colab_link": true
    },
    "kernelspec": {
      "name": "python3",
      "display_name": "Python 3"
    },
    "language_info": {
      "name": "python"
    },
    "accelerator": "TPU"
  },
  "cells": [
    {
      "cell_type": "markdown",
      "metadata": {
        "id": "view-in-github",
        "colab_type": "text"
      },
      "source": [
        "<a href=\"https://colab.research.google.com/github/stierlpz/anzahl-stimmen/blob/main/anzahl_stimmen.ipynb\" target=\"_parent\"><img src=\"https://colab.research.google.com/assets/colab-badge.svg\" alt=\"Open In Colab\"/></a>"
      ]
    },
    {
      "cell_type": "code",
      "metadata": {
        "id": "I-LrghgHq127"
      },
      "source": [
        "#@title\n",
        "\n",
        "k1=input(\"Name 1: \")\n",
        "z1=(int(input(\"Zahl 1: \")))\n",
        "k2=input(\"Name 2: \")\n",
        "z2=(int(input(\"Zahl 2: \")))\n",
        "k3=input(\"Name 3: \")\n",
        "z3=(int(input(\"Zahl 3: \")))\n",
        "k4=input(\"Name 4: \")\n",
        "z4=(int(input(\"Zahl 4: \")))\n",
        "k5=input(\"Name 5: \")\n",
        "z5=(int(input(\"Zahl 5: \")))\n",
        "\n",
        "s=z1+z2+z3+z4+z5\n",
        "\n",
        "print(\"-------------\")\n",
        "print(\"Summe: \",s)\n",
        "print(\"-------------\")\n",
        "p1=(z1/s)*100\n",
        "p2=(z2/s)*100\n",
        "p3=(z3/s)*100\n",
        "p4=(z4/s)*100\n",
        "p5=(z5/s)*100\n",
        "gp=p1+p2+p3+p4+p5\n",
        "\n",
        "\n",
        "print(\"Zahl 1 in %: \",round(p1,2),\"%\",k1)\n",
        "print(\"Zahl 2 in %: \",round(p2,2),\"%\",k2)\n",
        "print(\"Zahl 3 in %: \",round (p3,2),\"%\",k3)\n",
        "print(\"Zahl 4 in %: \",round(p4,2),\"%\",k4)\n",
        "print(\"Zahl 5 in %: \",round (p5,2),\"%\",k5)\n",
        "print(\"----------------------------------\")\n",
        "print(\"gesamt %   : \",round (gp,2),\"%\")\n",
        "\n",
        "list=[(round(z1,2),k1),(round(z2,2),k2),(round(z3,2),k3),(round(z4,2),k4),(round(z5,2),k5)]\n",
        "list1=[(round(p1,2),\"%\",k1),(round(p2,2),\"%\",k2),(round(p3,2),\"%\",k3),(round(p4,2),\"%\",k4),(round(p5,2),\"%\",k5)]\n",
        "list.sort()\n",
        "list1.sort()\n",
        "print(\"----------------------------------\")\n",
        "print(\"Anzahl von mind. bis max. mit Name  :  \",list)\n",
        "print(\"----------------------------------\")\n",
        "print(\"Prozent von mind. bis max. mit Name :  \",list1)\n",
        "print(\"----------------------------------\")\n",
        "\n",
        "\n"
      ],
      "execution_count": null,
      "outputs": []
    }
  ]
}